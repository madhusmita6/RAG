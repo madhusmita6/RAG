{
  "nbformat": 4,
  "nbformat_minor": 0,
  "metadata": {
    "colab": {
      "provenance": []
    },
    "kernelspec": {
      "name": "python3",
      "display_name": "Python 3"
    },
    "language_info": {
      "name": "python"
    }
  },
  "cells": [
    {
      "cell_type": "code",
      "source": [
        "!pip install sentence-transformers"
      ],
      "metadata": {
        "id": "LvSgGmom93wG"
      },
      "execution_count": null,
      "outputs": []
    },
    {
      "cell_type": "code",
      "source": [
        "import pandas as pd\n",
        "import sentence_transformers\n",
        "from sentence_transformers import SentenceTransformer, util"
      ],
      "metadata": {
        "id": "iIeGnGjHjXXX"
      },
      "execution_count": null,
      "outputs": []
    },
    {
      "cell_type": "code",
      "source": [
        "from google.colab import drive\n",
        "drive.mount('/content/drive')"
      ],
      "metadata": {
        "colab": {
          "base_uri": "https://localhost:8080/"
        },
        "id": "5SCq2PEmmWZi",
        "outputId": "7a2aee8c-5ceb-4947-8ea6-47f1edfbb8ea"
      },
      "execution_count": null,
      "outputs": [
        {
          "output_type": "stream",
          "name": "stdout",
          "text": [
            "Mounted at /content/drive\n"
          ]
        }
      ]
    },
    {
      "cell_type": "code",
      "source": [
        "# Define your input path. Change as per your exact path\n",
        "\n",
        "input_path = '/content/drive/My Drive/HelpMate AI Codes/Your Path Here/'"
      ],
      "metadata": {
        "id": "V-tD-YFRmXHt"
      },
      "execution_count": null,
      "outputs": []
    },
    {
      "cell_type": "code",
      "source": [
        "# Read the job postings csv\n",
        "\n",
        "job_postings = pd.read_csv(input_path + 'job_postings.csv')"
      ],
      "metadata": {
        "id": "1_eRPSU1mOnm"
      },
      "execution_count": null,
      "outputs": []
    },
    {
      "cell_type": "code",
      "source": [
        "job_postings"
      ],
      "metadata": {
        "id": "50MhRvLx-Y21"
      },
      "execution_count": null,
      "outputs": []
    },
    {
      "cell_type": "code",
      "source": [
        "# Load the MiniLM embedding model\n",
        "\n",
        "MiniLM_model_name = \"all-MiniLM-L6-v2\"\n",
        "MiniLM_model = SentenceTransformer(MiniLM_model_name)"
      ],
      "metadata": {
        "id": "ZlfhocAGU-gb"
      },
      "execution_count": null,
      "outputs": []
    },
    {
      "cell_type": "code",
      "source": [
        "# Load the QA embedding model\n",
        "\n",
        "QA_model_name = \"multi-qa-MiniLM-L6-cos-v1\"\n",
        "QA_model = SentenceTransformer(QA_model_name)"
      ],
      "metadata": {
        "id": "OYXx_-5a-zFT"
      },
      "execution_count": null,
      "outputs": []
    },
    {
      "cell_type": "markdown",
      "source": [
        "### Generate the Embeddings using both the Models"
      ],
      "metadata": {
        "id": "rC2m5JtZgXtR"
      }
    },
    {
      "cell_type": "code",
      "source": [
        "# Generate the embeddings for all rows in the description column using the MiniLM embedding model\n"
      ],
      "metadata": {
        "id": "i1NM8KFRZ4Ml"
      },
      "execution_count": null,
      "outputs": []
    },
    {
      "cell_type": "code",
      "source": [
        "# Generate the embeddings for all rows in the description column using the QA embedding model\n"
      ],
      "metadata": {
        "id": "HOwoNZ6QiHt_"
      },
      "execution_count": null,
      "outputs": []
    },
    {
      "cell_type": "markdown",
      "source": [
        "### Read the two queries\n",
        "\n",
        "* query_1: I am looking for a data engineer job that offers competitive pay\n",
        "* query_2: I want to work in UI design in the gaming industry"
      ],
      "metadata": {
        "id": "UvnufvbzgIK7"
      }
    },
    {
      "cell_type": "code",
      "source": [
        "query1 = input()"
      ],
      "metadata": {
        "id": "E-CFT0KQ_J3p"
      },
      "execution_count": null,
      "outputs": []
    },
    {
      "cell_type": "code",
      "source": [
        "query2 = input()"
      ],
      "metadata": {
        "id": "k1OsJiqVWS0X"
      },
      "execution_count": null,
      "outputs": []
    },
    {
      "cell_type": "markdown",
      "source": [
        "### Generate Query Embeddings and Calculate Similarities - for both queries against both models"
      ],
      "metadata": {
        "id": "lAgv-JzMgrMY"
      }
    },
    {
      "cell_type": "code",
      "source": [
        "# Define the function for calculating cosine similarity\n",
        "\n"
      ],
      "metadata": {
        "id": "gpFCEMLZtHs8"
      },
      "execution_count": null,
      "outputs": []
    },
    {
      "cell_type": "code",
      "source": [
        "# Calculate the query embedding for both queries using both models\n",
        "\n"
      ],
      "metadata": {
        "id": "7keetCQaAVU1"
      },
      "execution_count": null,
      "outputs": []
    },
    {
      "cell_type": "code",
      "source": [
        "# Calculate similarity scores between the query embedding and all chunk embeddings for both queries using both models\n",
        "\n"
      ],
      "metadata": {
        "id": "DNikrbM2WpJ_"
      },
      "execution_count": null,
      "outputs": []
    },
    {
      "cell_type": "code",
      "source": [
        "# Extract the top 3 results for both queries against both the embedding models\n",
        "#top_3_MiniLM_query1\n",
        "#top_3_QA_query1\n",
        "#top_3_MiniLM_query2\n",
        "#top_3_QA_query2\n",
        "\n"
      ],
      "metadata": {
        "id": "735jM54sCp_d"
      },
      "execution_count": null,
      "outputs": []
    }
  ]
}